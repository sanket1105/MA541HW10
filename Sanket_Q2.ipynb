{
 "cells": [
  {
   "attachments": {},
   "cell_type": "markdown",
   "id": "afd42a10",
   "metadata": {},
   "source": [
    "## Question 02\n"
   ]
  },
  {
   "cell_type": "code",
   "execution_count": 1,
   "id": "88c84e21",
   "metadata": {},
   "outputs": [],
   "source": [
    "import pandas as pd\n",
    "from mlxtend.feature_selection import SequentialFeatureSelector as sfs\n",
    "from sklearn.model_selection import train_test_split\n",
    "from sklearn.linear_model import LinearRegression\n",
    "from mlxtend.plotting import plot_sequential_feature_selection as plot_sfs\n",
    "import matplotlib.pyplot as plt\n",
    "import statsmodels.api as sm\n",
    "from sklearn.linear_model import LassoCV, LassoLarsCV, LassoLarsIC\n",
    "import numpy as np\n",
    "from sklearn.metrics import r2_score, mean_squared_error\n",
    "from math import sqrt\n",
    "from scipy.stats import pearsonr"
   ]
  },
  {
   "cell_type": "code",
   "execution_count": 2,
   "id": "b3e98e01",
   "metadata": {},
   "outputs": [
    {
     "data": {
      "text/html": [
       "<div>\n",
       "<style scoped>\n",
       "    .dataframe tbody tr th:only-of-type {\n",
       "        vertical-align: middle;\n",
       "    }\n",
       "\n",
       "    .dataframe tbody tr th {\n",
       "        vertical-align: top;\n",
       "    }\n",
       "\n",
       "    .dataframe thead th {\n",
       "        text-align: right;\n",
       "    }\n",
       "</style>\n",
       "<table border=\"1\" class=\"dataframe\">\n",
       "  <thead>\n",
       "    <tr style=\"text-align: right;\">\n",
       "      <th></th>\n",
       "      <th>Unnamed: 0</th>\n",
       "      <th>Private</th>\n",
       "      <th>Apps</th>\n",
       "      <th>Accept</th>\n",
       "      <th>Enroll</th>\n",
       "      <th>Top10perc</th>\n",
       "      <th>Top25perc</th>\n",
       "      <th>F.Undergrad</th>\n",
       "      <th>P.Undergrad</th>\n",
       "      <th>Outstate</th>\n",
       "      <th>Room.Board</th>\n",
       "      <th>Books</th>\n",
       "      <th>Personal</th>\n",
       "      <th>PhD</th>\n",
       "      <th>Terminal</th>\n",
       "      <th>S.F.Ratio</th>\n",
       "      <th>perc.alumni</th>\n",
       "      <th>Expend</th>\n",
       "      <th>Grad.Rate</th>\n",
       "    </tr>\n",
       "  </thead>\n",
       "  <tbody>\n",
       "    <tr>\n",
       "      <th>0</th>\n",
       "      <td>Abilene Christian University</td>\n",
       "      <td>Yes</td>\n",
       "      <td>1660</td>\n",
       "      <td>1232</td>\n",
       "      <td>721</td>\n",
       "      <td>23</td>\n",
       "      <td>52</td>\n",
       "      <td>2885</td>\n",
       "      <td>537</td>\n",
       "      <td>7440</td>\n",
       "      <td>3300</td>\n",
       "      <td>450</td>\n",
       "      <td>2200</td>\n",
       "      <td>70</td>\n",
       "      <td>78</td>\n",
       "      <td>18.1</td>\n",
       "      <td>12</td>\n",
       "      <td>7041</td>\n",
       "      <td>60</td>\n",
       "    </tr>\n",
       "    <tr>\n",
       "      <th>1</th>\n",
       "      <td>Adelphi University</td>\n",
       "      <td>Yes</td>\n",
       "      <td>2186</td>\n",
       "      <td>1924</td>\n",
       "      <td>512</td>\n",
       "      <td>16</td>\n",
       "      <td>29</td>\n",
       "      <td>2683</td>\n",
       "      <td>1227</td>\n",
       "      <td>12280</td>\n",
       "      <td>6450</td>\n",
       "      <td>750</td>\n",
       "      <td>1500</td>\n",
       "      <td>29</td>\n",
       "      <td>30</td>\n",
       "      <td>12.2</td>\n",
       "      <td>16</td>\n",
       "      <td>10527</td>\n",
       "      <td>56</td>\n",
       "    </tr>\n",
       "    <tr>\n",
       "      <th>2</th>\n",
       "      <td>Adrian College</td>\n",
       "      <td>Yes</td>\n",
       "      <td>1428</td>\n",
       "      <td>1097</td>\n",
       "      <td>336</td>\n",
       "      <td>22</td>\n",
       "      <td>50</td>\n",
       "      <td>1036</td>\n",
       "      <td>99</td>\n",
       "      <td>11250</td>\n",
       "      <td>3750</td>\n",
       "      <td>400</td>\n",
       "      <td>1165</td>\n",
       "      <td>53</td>\n",
       "      <td>66</td>\n",
       "      <td>12.9</td>\n",
       "      <td>30</td>\n",
       "      <td>8735</td>\n",
       "      <td>54</td>\n",
       "    </tr>\n",
       "    <tr>\n",
       "      <th>3</th>\n",
       "      <td>Agnes Scott College</td>\n",
       "      <td>Yes</td>\n",
       "      <td>417</td>\n",
       "      <td>349</td>\n",
       "      <td>137</td>\n",
       "      <td>60</td>\n",
       "      <td>89</td>\n",
       "      <td>510</td>\n",
       "      <td>63</td>\n",
       "      <td>12960</td>\n",
       "      <td>5450</td>\n",
       "      <td>450</td>\n",
       "      <td>875</td>\n",
       "      <td>92</td>\n",
       "      <td>97</td>\n",
       "      <td>7.7</td>\n",
       "      <td>37</td>\n",
       "      <td>19016</td>\n",
       "      <td>59</td>\n",
       "    </tr>\n",
       "    <tr>\n",
       "      <th>4</th>\n",
       "      <td>Alaska Pacific University</td>\n",
       "      <td>Yes</td>\n",
       "      <td>193</td>\n",
       "      <td>146</td>\n",
       "      <td>55</td>\n",
       "      <td>16</td>\n",
       "      <td>44</td>\n",
       "      <td>249</td>\n",
       "      <td>869</td>\n",
       "      <td>7560</td>\n",
       "      <td>4120</td>\n",
       "      <td>800</td>\n",
       "      <td>1500</td>\n",
       "      <td>76</td>\n",
       "      <td>72</td>\n",
       "      <td>11.9</td>\n",
       "      <td>2</td>\n",
       "      <td>10922</td>\n",
       "      <td>15</td>\n",
       "    </tr>\n",
       "  </tbody>\n",
       "</table>\n",
       "</div>"
      ],
      "text/plain": [
       "                     Unnamed: 0 Private  Apps  Accept  Enroll  Top10perc  \\\n",
       "0  Abilene Christian University     Yes  1660    1232     721         23   \n",
       "1            Adelphi University     Yes  2186    1924     512         16   \n",
       "2                Adrian College     Yes  1428    1097     336         22   \n",
       "3           Agnes Scott College     Yes   417     349     137         60   \n",
       "4     Alaska Pacific University     Yes   193     146      55         16   \n",
       "\n",
       "   Top25perc  F.Undergrad  P.Undergrad  Outstate  Room.Board  Books  Personal  \\\n",
       "0         52         2885          537      7440        3300    450      2200   \n",
       "1         29         2683         1227     12280        6450    750      1500   \n",
       "2         50         1036           99     11250        3750    400      1165   \n",
       "3         89          510           63     12960        5450    450       875   \n",
       "4         44          249          869      7560        4120    800      1500   \n",
       "\n",
       "   PhD  Terminal  S.F.Ratio  perc.alumni  Expend  Grad.Rate  \n",
       "0   70        78       18.1           12    7041         60  \n",
       "1   29        30       12.2           16   10527         56  \n",
       "2   53        66       12.9           30    8735         54  \n",
       "3   92        97        7.7           37   19016         59  \n",
       "4   76        72       11.9            2   10922         15  "
      ]
     },
     "execution_count": 2,
     "metadata": {},
     "output_type": "execute_result"
    }
   ],
   "source": [
    "data = pd.read_csv('College1.csv')\n",
    "data.head()"
   ]
  },
  {
   "cell_type": "code",
   "execution_count": 3,
   "id": "559e9db5",
   "metadata": {},
   "outputs": [
    {
     "data": {
      "text/plain": [
       "array([ 60,  56,  54,  59,  15,  55,  63,  73,  80,  52,  76,  74,  68,\n",
       "        69, 100,  46,  34,  48,  70,  65,  88,  58,  71,  85,  79,  91,\n",
       "        72,  84,  49,  82,  35,  51,  75,  53,  96,  67,  18,  33,  97,\n",
       "        89,  93,  78,  83,  61,  81,  64,  62, 118,  24,  66,  47,  50,\n",
       "        21,  87,  77,  43,  95,  37,  99,  45,  42,  98,  94,  38,  86,\n",
       "        44,  22,  57,  29,  36,  39,  40,  26,  90,  92,  32,  27,  41,\n",
       "        31,  10,  30], dtype=int64)"
      ]
     },
     "execution_count": 3,
     "metadata": {},
     "output_type": "execute_result"
    }
   ],
   "source": [
    "data['Grad.Rate'].unique()"
   ]
  },
  {
   "cell_type": "code",
   "execution_count": 4,
   "id": "74c0b18f",
   "metadata": {},
   "outputs": [],
   "source": [
    "data.drop(['Unnamed: 0', 'Private'], axis=1, inplace=True)"
   ]
  },
  {
   "cell_type": "code",
   "execution_count": 5,
   "id": "fe90d86e",
   "metadata": {},
   "outputs": [],
   "source": [
    "X = data.drop('Outstate', axis=1)\n",
    "Y = data['Outstate']"
   ]
  },
  {
   "cell_type": "code",
   "execution_count": 6,
   "id": "7b4ae576",
   "metadata": {},
   "outputs": [
    {
     "data": {
      "text/html": [
       "<div>\n",
       "<style scoped>\n",
       "    .dataframe tbody tr th:only-of-type {\n",
       "        vertical-align: middle;\n",
       "    }\n",
       "\n",
       "    .dataframe tbody tr th {\n",
       "        vertical-align: top;\n",
       "    }\n",
       "\n",
       "    .dataframe thead th {\n",
       "        text-align: right;\n",
       "    }\n",
       "</style>\n",
       "<table border=\"1\" class=\"dataframe\">\n",
       "  <thead>\n",
       "    <tr style=\"text-align: right;\">\n",
       "      <th></th>\n",
       "      <th>Apps</th>\n",
       "      <th>Accept</th>\n",
       "      <th>Enroll</th>\n",
       "      <th>Top10perc</th>\n",
       "      <th>Top25perc</th>\n",
       "      <th>F.Undergrad</th>\n",
       "      <th>P.Undergrad</th>\n",
       "      <th>Room.Board</th>\n",
       "      <th>Books</th>\n",
       "      <th>Personal</th>\n",
       "      <th>PhD</th>\n",
       "      <th>Terminal</th>\n",
       "      <th>S.F.Ratio</th>\n",
       "      <th>perc.alumni</th>\n",
       "      <th>Expend</th>\n",
       "      <th>Grad.Rate</th>\n",
       "    </tr>\n",
       "  </thead>\n",
       "  <tbody>\n",
       "    <tr>\n",
       "      <th>0</th>\n",
       "      <td>1660</td>\n",
       "      <td>1232</td>\n",
       "      <td>721</td>\n",
       "      <td>23</td>\n",
       "      <td>52</td>\n",
       "      <td>2885</td>\n",
       "      <td>537</td>\n",
       "      <td>3300</td>\n",
       "      <td>450</td>\n",
       "      <td>2200</td>\n",
       "      <td>70</td>\n",
       "      <td>78</td>\n",
       "      <td>18.1</td>\n",
       "      <td>12</td>\n",
       "      <td>7041</td>\n",
       "      <td>60</td>\n",
       "    </tr>\n",
       "    <tr>\n",
       "      <th>1</th>\n",
       "      <td>2186</td>\n",
       "      <td>1924</td>\n",
       "      <td>512</td>\n",
       "      <td>16</td>\n",
       "      <td>29</td>\n",
       "      <td>2683</td>\n",
       "      <td>1227</td>\n",
       "      <td>6450</td>\n",
       "      <td>750</td>\n",
       "      <td>1500</td>\n",
       "      <td>29</td>\n",
       "      <td>30</td>\n",
       "      <td>12.2</td>\n",
       "      <td>16</td>\n",
       "      <td>10527</td>\n",
       "      <td>56</td>\n",
       "    </tr>\n",
       "  </tbody>\n",
       "</table>\n",
       "</div>"
      ],
      "text/plain": [
       "   Apps  Accept  Enroll  Top10perc  Top25perc  F.Undergrad  P.Undergrad  \\\n",
       "0  1660    1232     721         23         52         2885          537   \n",
       "1  2186    1924     512         16         29         2683         1227   \n",
       "\n",
       "   Room.Board  Books  Personal  PhD  Terminal  S.F.Ratio  perc.alumni  Expend  \\\n",
       "0        3300    450      2200   70        78       18.1           12    7041   \n",
       "1        6450    750      1500   29        30       12.2           16   10527   \n",
       "\n",
       "   Grad.Rate  \n",
       "0         60  \n",
       "1         56  "
      ]
     },
     "execution_count": 6,
     "metadata": {},
     "output_type": "execute_result"
    }
   ],
   "source": [
    "X.head(2)"
   ]
  },
  {
   "attachments": {},
   "cell_type": "markdown",
   "id": "63501394",
   "metadata": {},
   "source": [
    "## Part A"
   ]
  },
  {
   "cell_type": "code",
   "execution_count": 7,
   "id": "ef933e32",
   "metadata": {},
   "outputs": [
    {
     "data": {
      "text/plain": [
       "((621, 16), (156, 16))"
      ]
     },
     "execution_count": 7,
     "metadata": {},
     "output_type": "execute_result"
    }
   ],
   "source": [
    "x_train, x_test, y_train, y_test = train_test_split(X, Y, test_size=0.2, random_state=42)\n",
    "x_train.shape, x_test.shape"
   ]
  },
  {
   "cell_type": "markdown",
   "id": "4f09aa72",
   "metadata": {},
   "source": [
    "## Part A"
   ]
  },
  {
   "cell_type": "code",
   "execution_count": 8,
   "id": "948c6567",
   "metadata": {},
   "outputs": [],
   "source": [
    "aic = []\n",
    "bic = []\n",
    "r2 = []\n",
    "rmse = []\n",
    "nff = []\n",
    "\n",
    "for i in range(1, 16): ## number of columns\n",
    "\n",
    "    features_selector_forward = sfs(LinearRegression(),\n",
    "                    k_features=i, \n",
    "                    forward=True, \n",
    "                    verbose=0, \n",
    "                    cv=5, n_jobs=-1 )\n",
    "\n",
    "    features_selector_forward.fit(x_train, y_train)\n",
    "    \n",
    "    mod = sm.GLS(y_train, x_train[list(features_selector_forward.k_feature_names_)]).fit()\n",
    "    y_pred = mod.predict(x_test[list(features_selector_forward.k_feature_names_)])\n",
    "    \n",
    "    mod_aic = mod.aic\n",
    "    mod_bic = mod.bic\n",
    "    mod_r2 = r2_score(y_test, y_pred)\n",
    "    mod_rmse = sqrt(mean_squared_error(y_test, y_pred))\n",
    "    \n",
    "    aic.append(mod_aic)\n",
    "    bic.append(mod_bic)\n",
    "    r2.append(mod_r2)\n",
    "    rmse.append(mod_rmse)\n",
    "    nff.append(i)"
   ]
  },
  {
   "cell_type": "code",
   "execution_count": 9,
   "id": "14eeee88",
   "metadata": {},
   "outputs": [
    {
     "data": {
      "image/png": "[encoded data removed]",
      "text/plain": [
       "<Figure size 1080x720 with 4 Axes>"
      ]
     },
     "metadata": {
      "needs_background": "light"
     },
     "output_type": "display_data"
    }
   ],
   "source": [
    "plt.figure(figsize=(15,10))\n",
    "\n",
    "plt.subplot(2, 2, 1)\n",
    "plt.plot(nff, aic)\n",
    "plt.title(\"AIC\")\n",
    "\n",
    "plt.subplot(2, 2, 2)\n",
    "plt.plot(nff, bic)\n",
    "plt.title(\"BIC\")\n",
    "\n",
    "plt.subplot(2, 2, 3)\n",
    "plt.plot(nff, r2)\n",
    "plt.title(\"R-Squared\")\n",
    "\n",
    "plt.subplot(2, 2, 4)\n",
    "plt.plot(nff, rmse)\n",
    "plt.title(\"RMSE\")\n",
    "\n",
    "plt.show()"
   ]
  },
  {
   "attachments": {},
   "cell_type": "markdown",
   "id": "c740fb56",
   "metadata": {},
   "source": [
    "## \n",
    "A lower AIC and BIC scores means the model is fitting good.\n",
    "\n",
    "The possible answer for the number of good parametrs is 10"
   ]
  },
  {
   "attachments": {},
   "cell_type": "markdown",
   "id": "7bd8011a",
   "metadata": {},
   "source": [
    "## Part B\n",
    "\n",
    "    -- Lets train the model with taking just the 10 parameters"
   ]
  },
  {
   "cell_type": "code",
   "execution_count": 10,
   "id": "0786d81c",
   "metadata": {},
   "outputs": [
    {
     "data": {
      "text/plain": [
       "SequentialFeatureSelector(estimator=LinearRegression(), k_features=10,\n",
       "                          n_jobs=-1)"
      ]
     },
     "execution_count": 10,
     "metadata": {},
     "output_type": "execute_result"
    }
   ],
   "source": [
    "features_selector_forward = sfs(LinearRegression(),\n",
    "                k_features=10, \n",
    "                forward=True, \n",
    "                verbose=0, \n",
    "                cv=5, n_jobs=-1 )\n",
    "\n",
    "features_selector_forward.fit(x_train, y_train)"
   ]
  },
  {
   "cell_type": "code",
   "execution_count": 11,
   "id": "d7fe51d3",
   "metadata": {},
   "outputs": [],
   "source": [
    "x_train = x_train[list(features_selector_forward.k_feature_names_)]\n",
    "x_test = x_test[list(features_selector_forward.k_feature_names_)]"
   ]
  },
  {
   "cell_type": "code",
   "execution_count": 12,
   "id": "abcb0c38",
   "metadata": {},
   "outputs": [
    {
     "name": "stderr",
     "output_type": "stream",
     "text": [
      "  0% (0 of 11) |                         | Elapsed Time: 0:00:00 ETA:  --:--:--\n",
      "  9% (1 of 11) |##                       | Elapsed Time: 0:00:00 ETA:  00:00:00\n",
      " 18% (2 of 11) |####                     | Elapsed Time: 0:00:00 ETA:   0:00:00\n",
      " 27% (3 of 11) |######                   | Elapsed Time: 0:00:00 ETA:   0:00:00\n",
      " 36% (4 of 11) |#########                | Elapsed Time: 0:00:00 ETA:   0:00:00\n",
      " 45% (5 of 11) |###########              | Elapsed Time: 0:00:00 ETA:   0:00:00\n",
      " 54% (6 of 11) |#############            | Elapsed Time: 0:00:00 ETA:   0:00:00\n",
      " 63% (7 of 11) |###############          | Elapsed Time: 0:00:00 ETA:   0:00:00\n",
      " 72% (8 of 11) |##################       | Elapsed Time: 0:00:00 ETA:   0:00:00\n",
      " 81% (9 of 11) |####################     | Elapsed Time: 0:00:00 ETA:   0:00:00\n",
      " 90% (10 of 11) |#####################   | Elapsed Time: 0:00:00 ETA:   0:00:00\n",
      "100% (11 of 11) |########################| Elapsed Time: 0:00:00 Time:  0:00:00\n"
     ]
    }
   ],
   "source": [
    "from pygam import LinearGAM\n",
    "gam_model = LinearGAM().gridsearch(x_train.values, y_train.values)"
   ]
  },
  {
   "cell_type": "code",
   "execution_count": 13,
   "id": "6ac1f542",
   "metadata": {},
   "outputs": [
    {
     "name": "stdout",
     "output_type": "stream",
     "text": [
      "LinearGAM                                                                                                 \n",
      "=============================================== ==========================================================\n",
      "Distribution:                        NormalDist Effective DoF:                                      37.091\n",
      "Link Function:                     IdentityLink Log Likelihood:                                 -9942.4488\n",
      "Number of Samples:                          621 AIC:                                            19961.0796\n",
      "                                                AICc:                                           19966.1973\n",
      "                                                GCV:                                          4010817.7966\n",
      "                                                Scale:                                        3582049.0087\n",
      "                                                Pseudo R-Squared:                                    0.791\n",
      "==========================================================================================================\n",
      "Feature Function                  Lambda               Rank         EDoF         P > x        Sig. Code   \n",
      "================================= ==================== ============ ============ ============ ============\n",
      "s(0)                              [63.0957]            20           5.9          8.38e-03     **          \n",
      "s(1)                              [63.0957]            20           2.7          3.19e-05     ***         \n",
      "s(2)                              [63.0957]            20           4.7          3.03e-01                 \n",
      "s(3)                              [63.0957]            20           3.1          2.05e-13     ***         \n",
      "s(4)                              [63.0957]            20           4.2          1.02e-12     ***         \n",
      "s(5)                              [63.0957]            20           4.5          2.03e-01                 \n",
      "s(6)                              [63.0957]            20           3.5          2.45e-01                 \n",
      "s(7)                              [63.0957]            20           3.7          1.72e-02     *           \n",
      "s(8)                              [63.0957]            20           1.9          1.11e-16     ***         \n",
      "s(9)                              [63.0957]            20           2.9          6.99e-04     ***         \n",
      "intercept                                              1            0.0          1.11e-16     ***         \n",
      "==========================================================================================================\n",
      "Significance codes:  0 '***' 0.001 '**' 0.01 '*' 0.05 '.' 0.1 ' ' 1\n",
      "\n",
      "WARNING: Fitting splines and a linear function to a feature introduces a model identifiability problem\n",
      "         which can cause p-values to appear significant when they are not.\n",
      "\n",
      "WARNING: p-values calculated in this manner behave correctly for un-penalized models or models with\n",
      "         known smoothing parameters, but when smoothing parameters have been estimated, the p-values\n",
      "         are typically lower than they should be, meaning that the tests reject the null too readily.\n"
     ]
    },
    {
     "name": "stderr",
     "output_type": "stream",
     "text": [
      "c:\\Users\\Shankii\\anaconda3\\envs\\gputest\\lib\\site-packages\\ipykernel_launcher.py:1: UserWarning: KNOWN BUG: p-values computed in this summary are likely much smaller than they should be. \n",
      " \n",
      "Please do not make inferences based on these values! \n",
      "\n",
      "Collaborate on a solution, and stay up to date at: \n",
      "github.com/dswah/pyGAM/issues/163 \n",
      "\n",
      "  \"\"\"Entry point for launching an IPython kernel.\n"
     ]
    }
   ],
   "source": [
    "gam_model.summary()"
   ]
  },
  {
   "cell_type": "markdown",
   "id": "273f96a8",
   "metadata": {},
   "source": [
    "## Part C"
   ]
  },
  {
   "cell_type": "code",
   "execution_count": 14,
   "id": "d5ec90bc",
   "metadata": {},
   "outputs": [
    {
     "name": "stdout",
     "output_type": "stream",
     "text": [
      "RMSE =  1803.0139370231398\n",
      "19961.0796450532 0.7910181713559215\n",
      "RSS =  507134044.10755056\n"
     ]
    }
   ],
   "source": [
    "y_pred = gam_model.predict(x_test.values)\n",
    "print(\"RMSE = \", sqrt(mean_squared_error(y_test, y_pred)))\n",
    "print(gam_model.statistics_['AIC'], gam_model.statistics_['pseudo_r2']['explained_deviance'])\n",
    "print(\"RSS = \", np.sum(np.square(y_pred - y_test)))\n"
   ]
  },
  {
   "cell_type": "markdown",
   "id": "29b68e39",
   "metadata": {},
   "source": [
    "## Part D"
   ]
  },
  {
   "attachments": {},
   "cell_type": "markdown",
   "id": "07db3e90",
   "metadata": {},
   "source": [
    " -- Can't really say which are linear and which are not\n",
    "\n",
    " -- Lets doo the Hypothesis testing:\n",
    "\n",
    "    Hypothesis Testing\n",
    "    H0 = The variables are non-linear\n",
    "    H1 = The variables are linear"
   ]
  },
  {
   "cell_type": "code",
   "execution_count": 18,
   "id": "0ffaa93a",
   "metadata": {},
   "outputs": [
    {
     "name": "stdout",
     "output_type": "stream",
     "text": [
      "Apps vs Outstate: pvalue = 0.16247452380683305\n",
      "Accept vs Outstate: pvalue = 0.4734580801339919\n",
      "Top10perc vs Outstate: pvalue = 5.459242638343985e-66\n",
      "F.Undergrad vs Outstate: pvalue = 1.234045211673653e-09\n",
      "Room.Board vs Outstate: pvalue = 4.135091124155116e-96\n",
      "Terminal vs Outstate: pvalue = 1.6021725306645543e-32\n",
      "S.F.Ratio vs Outstate: pvalue = 6.23752219753576e-64\n",
      "perc.alumni vs Outstate: pvalue = 4.3495224626882205e-67\n",
      "Expend vs Outstate: pvalue = 1.629891352881644e-103\n",
      "Grad.Rate vs Outstate: pvalue = 1.6289269593118119e-68\n"
     ]
    }
   ],
   "source": [
    "for i in X[list(features_selector_forward.k_feature_names_)].columns:\n",
    "    coeff, pvalue = pearsonr(X[i], Y)\n",
    "    print(\"{} vs {}: pvalue = {}\".format(i, \"Outstate\", pvalue))"
   ]
  },
  {
   "attachments": {},
   "cell_type": "markdown",
   "id": "3d0767c6",
   "metadata": {},
   "source": [
    "## P value < alpha: Reject H0\n",
    "\n",
    "-> we will reject H0 for the variables except for Apps and Accept\n",
    "\n",
    "-> since for those variables: p-value > alpha "
   ]
  }
 ],
 "metadata": {
  "kernelspec": {
   "display_name": "gputest",
   "language": "python",
   "name": "python3"
  },
  "language_info": {
   "codemirror_mode": {
    "name": "ipython",
    "version": 3
   },
   "file_extension": ".py",
   "mimetype": "text/x-python",
   "name": "python",
   "nbconvert_exporter": "python",
   "pygments_lexer": "ipython3",
   "version": "3.6.13"
  },
  "vscode": {
   "interpreter": {
    "hash": "914c139996f68d185b073981459f96382266ba5f3df925a29404be19a0a7c343"
   }
  }
 },
 "nbformat": 4,
 "nbformat_minor": 5
}
